{
 "cells": [
  {
   "cell_type": "code",
   "execution_count": 121,
   "id": "1b47cc59",
   "metadata": {},
   "outputs": [],
   "source": [
    "import pandas as pd\n",
    "import numpy as np\n",
    "import matplotlib.pyplot as plt\n",
    "\n",
    "from sklearn.model_selection import train_test_split\n",
    "from sklearn.impute import SimpleImputer, KNNImputer\n",
    "from sklearn.preprocessing import OrdinalEncoder, OneHotEncoder, StandardScaler, MinMaxScaler\n",
    "from sklearn.linear_model import LinearRegression\n",
    "from sklearn.neighbors import KNeighborsClassifier\n",
    "from sklearn.model_selection import cross_val_score, GridSearchCV"
   ]
  },
  {
   "cell_type": "markdown",
   "id": "21253c43",
   "metadata": {},
   "source": [
    "## Fjern data i housing data  "
   ]
  },
  {
   "cell_type": "code",
   "execution_count": 122,
   "id": "366074d6",
   "metadata": {},
   "outputs": [
    {
     "data": {
      "text/html": [
       "<div>\n",
       "<style scoped>\n",
       "    .dataframe tbody tr th:only-of-type {\n",
       "        vertical-align: middle;\n",
       "    }\n",
       "\n",
       "    .dataframe tbody tr th {\n",
       "        vertical-align: top;\n",
       "    }\n",
       "\n",
       "    .dataframe thead th {\n",
       "        text-align: right;\n",
       "    }\n",
       "</style>\n",
       "<table border=\"1\" class=\"dataframe\">\n",
       "  <thead>\n",
       "    <tr style=\"text-align: right;\">\n",
       "      <th></th>\n",
       "      <th>longitude</th>\n",
       "      <th>latitude</th>\n",
       "      <th>housing_median_age</th>\n",
       "      <th>total_rooms</th>\n",
       "      <th>total_bedrooms</th>\n",
       "      <th>population</th>\n",
       "      <th>households</th>\n",
       "      <th>median_income</th>\n",
       "      <th>median_house_value</th>\n",
       "      <th>ocean_proximity</th>\n",
       "    </tr>\n",
       "  </thead>\n",
       "  <tbody>\n",
       "    <tr>\n",
       "      <th>0</th>\n",
       "      <td>-122.23</td>\n",
       "      <td>37.88</td>\n",
       "      <td>41.0</td>\n",
       "      <td>880.0</td>\n",
       "      <td>129.0</td>\n",
       "      <td>322.0</td>\n",
       "      <td>126.0</td>\n",
       "      <td>8.3252</td>\n",
       "      <td>452600.0</td>\n",
       "      <td>NEAR BAY</td>\n",
       "    </tr>\n",
       "    <tr>\n",
       "      <th>1</th>\n",
       "      <td>-122.22</td>\n",
       "      <td>37.86</td>\n",
       "      <td>21.0</td>\n",
       "      <td>7099.0</td>\n",
       "      <td>1106.0</td>\n",
       "      <td>2401.0</td>\n",
       "      <td>1138.0</td>\n",
       "      <td>8.3014</td>\n",
       "      <td>358500.0</td>\n",
       "      <td>NEAR BAY</td>\n",
       "    </tr>\n",
       "    <tr>\n",
       "      <th>2</th>\n",
       "      <td>-122.24</td>\n",
       "      <td>37.85</td>\n",
       "      <td>52.0</td>\n",
       "      <td>1467.0</td>\n",
       "      <td>190.0</td>\n",
       "      <td>496.0</td>\n",
       "      <td>177.0</td>\n",
       "      <td>7.2574</td>\n",
       "      <td>352100.0</td>\n",
       "      <td>NEAR BAY</td>\n",
       "    </tr>\n",
       "    <tr>\n",
       "      <th>3</th>\n",
       "      <td>-122.25</td>\n",
       "      <td>37.85</td>\n",
       "      <td>52.0</td>\n",
       "      <td>1274.0</td>\n",
       "      <td>235.0</td>\n",
       "      <td>558.0</td>\n",
       "      <td>219.0</td>\n",
       "      <td>5.6431</td>\n",
       "      <td>341300.0</td>\n",
       "      <td>NEAR BAY</td>\n",
       "    </tr>\n",
       "    <tr>\n",
       "      <th>4</th>\n",
       "      <td>-122.25</td>\n",
       "      <td>37.85</td>\n",
       "      <td>52.0</td>\n",
       "      <td>1627.0</td>\n",
       "      <td>280.0</td>\n",
       "      <td>565.0</td>\n",
       "      <td>259.0</td>\n",
       "      <td>3.8462</td>\n",
       "      <td>342200.0</td>\n",
       "      <td>NEAR BAY</td>\n",
       "    </tr>\n",
       "  </tbody>\n",
       "</table>\n",
       "</div>"
      ],
      "text/plain": [
       "   longitude  latitude  housing_median_age  total_rooms  total_bedrooms  \\\n",
       "0    -122.23     37.88                41.0        880.0           129.0   \n",
       "1    -122.22     37.86                21.0       7099.0          1106.0   \n",
       "2    -122.24     37.85                52.0       1467.0           190.0   \n",
       "3    -122.25     37.85                52.0       1274.0           235.0   \n",
       "4    -122.25     37.85                52.0       1627.0           280.0   \n",
       "\n",
       "   population  households  median_income  median_house_value ocean_proximity  \n",
       "0       322.0       126.0         8.3252            452600.0        NEAR BAY  \n",
       "1      2401.0      1138.0         8.3014            358500.0        NEAR BAY  \n",
       "2       496.0       177.0         7.2574            352100.0        NEAR BAY  \n",
       "3       558.0       219.0         5.6431            341300.0        NEAR BAY  \n",
       "4       565.0       259.0         3.8462            342200.0        NEAR BAY  "
      ]
     },
     "execution_count": 122,
     "metadata": {},
     "output_type": "execute_result"
    }
   ],
   "source": [
    "# Indlæs datasæt\n",
    "housing = pd.read_csv(\"housing.csv\")\n",
    "housing.head()"
   ]
  },
  {
   "cell_type": "code",
   "execution_count": 123,
   "id": "0526caba",
   "metadata": {},
   "outputs": [
    {
     "name": "stdout",
     "output_type": "stream",
     "text": [
      "Manglende værdier (5%): 1032\n",
      "Manglende værdier (10%): 2064\n",
      "Manglende værdier (40%): 8256\n",
      "Manglende værdier (80%): 16512\n",
      "ocean_proximity\n",
      "<1H OCEAN     9124\n",
      "INLAND        6548\n",
      "NEAR OCEAN    2655\n",
      "NEAR BAY      2288\n",
      "Na              20\n",
      "ISLAND           5\n",
      "Name: count, dtype: int64\n"
     ]
    }
   ],
   "source": [
    "def remove_random_values(df, column, fraction, seed=42):\n",
    "    df = df.copy()\n",
    "    np.random.seed(seed)\n",
    "    n = int(len(df) * fraction)\n",
    "    missing_idx = np.random.choice(df.index, size=n, replace=False)\n",
    "    df.loc[missing_idx, column] = np.nan\n",
    "    return df\n",
    "\n",
    "# fjern 5%, 10%, 40% og 80% af værdierne i forskellige kolonner\n",
    "housing = remove_random_values(housing, \"total_rooms\", 0.05)\n",
    "housing = remove_random_values(housing, \"housing_median_age\", 0.10)\n",
    "housing = remove_random_values(housing, \"population\", 0.40)\n",
    "housing = remove_random_values(housing, \"households\", 0.80)\n",
    "\n",
    "print(\"Manglende værdier (5%):\", housing[\"total_rooms\"].isnull().sum())\n",
    "print(\"Manglende værdier (10%):\", housing[\"housing_median_age\"].isnull().sum())\n",
    "print(\"Manglende værdier (40%):\", housing[\"population\"].isnull().sum())\n",
    "print(\"Manglende værdier (80%):\", housing[\"households\"].isnull().sum())\n",
    "\n",
    "# Fjern værdier i kategorisk kolonne (\"Fake NaN\")\n",
    "replace_idx = np.random.choice(housing.index, size=20, replace=False)\n",
    "housing.loc[replace_idx, \"ocean_proximity\"] = \"Na\"\n",
    "\n",
    "print(housing[\"ocean_proximity\"].value_counts())\n",
    "\n",
    "# save csv\n",
    "housing.to_csv(\"housing_missing.csv\", index=False)\n"
   ]
  },
  {
   "cell_type": "markdown",
   "id": "b4c5a16d",
   "metadata": {},
   "source": [
    "## Opgave 1"
   ]
  },
  {
   "cell_type": "code",
   "execution_count": 124,
   "id": "be8d5772",
   "metadata": {},
   "outputs": [
    {
     "data": {
      "text/plain": [
       "20640"
      ]
     },
     "execution_count": 124,
     "metadata": {},
     "output_type": "execute_result"
    }
   ],
   "source": [
    "housing = pd.read_csv(\"housing_missing.csv\")\n",
    "\n",
    "housing.head()\n",
    "\n",
    "housing.isna().sum()\n",
    "\n",
    "len(housing)"
   ]
  },
  {
   "cell_type": "code",
   "execution_count": 125,
   "id": "830a358d",
   "metadata": {},
   "outputs": [
    {
     "name": "stdout",
     "output_type": "stream",
     "text": [
      "Dataset shape: (20640, 10)\n",
      "Missing values:\n",
      "longitude                 0\n",
      "latitude                  0\n",
      "housing_median_age     2064\n",
      "total_rooms            1032\n",
      "total_bedrooms          207\n",
      "population             8256\n",
      "households            16512\n",
      "median_income             0\n",
      "median_house_value        0\n",
      "ocean_proximity           0\n",
      "dtype: int64\n"
     ]
    },
    {
     "data": {
      "image/png": "[encoded data removed]",
      "text/plain": [
       "<Figure size 1400x400 with 5 Axes>"
      ]
     },
     "metadata": {},
     "output_type": "display_data"
    }
   ],
   "source": [
    "# Tjek missing values\n",
    "print(\"Dataset shape:\", housing.shape)\n",
    "\n",
    "print(\"Missing values:\")\n",
    "print(housing.isnull().sum())\n",
    "\n",
    "# Vælg kun numeriske kolonner\n",
    "num_features = housing.select_dtypes(include=[np.number]).columns\n",
    "\n",
    "# Simple imputers på alle numeriske features\n",
    "imputer_mean = SimpleImputer(strategy=\"mean\")\n",
    "imputer_median = SimpleImputer(strategy=\"median\")\n",
    "imputer_zero = SimpleImputer(strategy=\"constant\", fill_value=0)\n",
    "\n",
    "housing_mean = pd.DataFrame(imputer_mean.fit_transform(housing[num_features]),\n",
    "                            columns=num_features)\n",
    "housing_median = pd.DataFrame(imputer_median.fit_transform(housing[num_features]),\n",
    "                              columns=num_features)\n",
    "housing_zero = pd.DataFrame(imputer_zero.fit_transform(housing[num_features]),\n",
    "                            columns=num_features)\n",
    "\n",
    "# Avanceret: KNN-imputer\n",
    "knn_imputer = KNNImputer(n_neighbors=5)\n",
    "housing_knn = pd.DataFrame(knn_imputer.fit_transform(housing[num_features]),\n",
    "                           columns=num_features)\n",
    "\n",
    "# Visualiser ét eksempel-feature for at sammenligne (fx households)\n",
    "column_to_plot = \"households\"\n",
    "fig, axs = plt.subplots(1, 5, figsize=(14, 4))\n",
    "axs[0].hist(housing[column_to_plot].dropna(), bins=30)\n",
    "axs[0].set_title(\"Original with NaNs\")\n",
    "axs[1].hist(housing_mean[column_to_plot], bins=30)\n",
    "axs[1].set_title(\"Mean Imputation\")\n",
    "axs[2].hist(housing_median[column_to_plot], bins=30)\n",
    "axs[2].set_title(\"Median Imputation\")\n",
    "axs[3].hist(housing_zero[column_to_plot], bins=30)\n",
    "axs[3].set_title(\"Zero Imputation\")\n",
    "axs[4].hist(housing_knn[column_to_plot], bins=30)\n",
    "axs[4].set_title(\"KNN Imputation\")\n",
    "plt.tight_layout()\n",
    "plt.show()"
   ]
  },
  {
   "cell_type": "markdown",
   "id": "e0b47dcc",
   "metadata": {},
   "source": [
    "## Opgave 2"
   ]
  },
  {
   "cell_type": "code",
   "execution_count": 126,
   "id": "8756382e",
   "metadata": {},
   "outputs": [
    {
     "name": "stdout",
     "output_type": "stream",
     "text": [
      "Value counts - ocean_proximity:\n",
      "ocean_proximity\n",
      "<1H OCEAN     9124\n",
      "INLAND        6548\n",
      "NEAR OCEAN    2655\n",
      "NEAR BAY      2288\n",
      "Na              20\n",
      "ISLAND           5\n",
      "Name: count, dtype: int64\n"
     ]
    }
   ],
   "source": [
    "print(\"Value counts - ocean_proximity:\")\n",
    "print(housing[\"ocean_proximity\"].value_counts())"
   ]
  },
  {
   "cell_type": "code",
   "execution_count": 127,
   "id": "909b604f",
   "metadata": {},
   "outputs": [],
   "source": [
    "housing[\"ocean_proximity\"] = housing[\"ocean_proximity\"].replace(\"Na\", np.nan)\n",
    "\n",
    "cat_imputer = SimpleImputer(strategy=\"most_frequent\")  # eller \"constant\", fill_value=\"missing\"\n",
    "housing[\"ocean_proximity\"] = pd.DataFrame(cat_imputer.fit_transform(housing[[\"ocean_proximity\"]]),\n",
    "                            columns=[\"ocean_proximity\"])"
   ]
  },
  {
   "cell_type": "code",
   "execution_count": 128,
   "id": "797f3248",
   "metadata": {},
   "outputs": [
    {
     "name": "stdout",
     "output_type": "stream",
     "text": [
      "Label encoded:\n",
      "  ocean_proximity  ocean_encoded\n",
      "0        NEAR BAY            3.0\n",
      "1        NEAR BAY            3.0\n",
      "2        NEAR BAY            3.0\n",
      "3        NEAR BAY            3.0\n",
      "4        NEAR BAY            3.0\n",
      "One-hot encoded:\n",
      "   ocean_proximity_<1H OCEAN  ocean_proximity_INLAND  ocean_proximity_ISLAND  \\\n",
      "0                        0.0                     0.0                     0.0   \n",
      "1                        0.0                     0.0                     0.0   \n",
      "2                        0.0                     0.0                     0.0   \n",
      "3                        0.0                     0.0                     0.0   \n",
      "4                        0.0                     0.0                     0.0   \n",
      "\n",
      "   ocean_proximity_NEAR BAY  ocean_proximity_NEAR OCEAN  \n",
      "0                       1.0                         0.0  \n",
      "1                       1.0                         0.0  \n",
      "2                       1.0                         0.0  \n",
      "3                       1.0                         0.0  \n",
      "4                       1.0                         0.0  \n"
     ]
    }
   ],
   "source": [
    "\n",
    "# Label Encoding\n",
    "ordinal_encoder = OrdinalEncoder()\n",
    "housing_ordinal = housing.copy()\n",
    "housing_ordinal[\"ocean_encoded\"] = ordinal_encoder.fit_transform(housing[[\"ocean_proximity\"]])\n",
    "\n",
    "print(\"Label encoded:\")\n",
    "print(housing_ordinal[[\"ocean_proximity\", \"ocean_encoded\"]].head())\n",
    "\n",
    "# One-Hot Encoding\n",
    "onehot_encoder = OneHotEncoder(sparse_output=False)\n",
    "ocean_1hot = onehot_encoder.fit_transform(housing[[\"ocean_proximity\"]])\n",
    "ocean_1hot_df = pd.DataFrame(ocean_1hot, columns=onehot_encoder.get_feature_names_out([\"ocean_proximity\"]))\n",
    "\n",
    "print(\"One-hot encoded:\")\n",
    "print(ocean_1hot_df.head())"
   ]
  },
  {
   "cell_type": "markdown",
   "id": "8c05710b",
   "metadata": {},
   "source": [
    "## Opgave 3"
   ]
  },
  {
   "cell_type": "code",
   "execution_count": 129,
   "id": "c9733124",
   "metadata": {},
   "outputs": [
    {
     "name": "stdout",
     "output_type": "stream",
     "text": [
      "StandardScaler (z-score) sample:\n",
      "   longitude  latitude  housing_median_age  total_rooms  total_bedrooms  \\\n",
      "0  -1.327835  1.052548            0.983513    -0.803407       -0.970325   \n",
      "1  -1.322844  1.043185           -0.604269     2.040954        1.348276   \n",
      "2  -1.332827  1.038503            1.856793    -0.534933       -0.825561   \n",
      "3  -1.337818  1.038503                 NaN    -0.623205       -0.718768   \n",
      "4  -1.337818  1.038503            1.856793    -0.461755       -0.611974   \n",
      "\n",
      "   population  households  median_income  median_house_value  \n",
      "0         NaN         NaN       2.344766            2.129631  \n",
      "1    0.864248         NaN       2.332238            1.314156  \n",
      "2   -0.829946         NaN       1.782699            1.258693  \n",
      "3         NaN         NaN       0.932968            1.165100  \n",
      "4   -0.768582         NaN      -0.012881            1.172900  \n",
      "MinMaxScaler sample:\n",
      "   longitude  latitude  housing_median_age  total_rooms  total_bedrooms  \\\n",
      "0   0.211155  0.567481            0.784314     0.022331        0.019863   \n",
      "1   0.212151  0.565356            0.392157     0.180503        0.171477   \n",
      "2   0.210159  0.564293            1.000000     0.037260        0.029330   \n",
      "3   0.209163  0.564293                 NaN     0.032352        0.036313   \n",
      "4   0.209163  0.564293            1.000000     0.041330        0.043296   \n",
      "\n",
      "   population  households  median_income  median_house_value  \n",
      "0         NaN         NaN       0.539668            0.902266  \n",
      "1    0.067210         NaN       0.538027            0.708247  \n",
      "2    0.013818         NaN       0.466028            0.695051  \n",
      "3         NaN         NaN       0.354699            0.672783  \n",
      "4    0.015752         NaN       0.230776            0.674638  \n"
     ]
    },
    {
     "data": {
      "image/png": "[encoded data removed]",
      "text/plain": [
       "<Figure size 1000x400 with 2 Axes>"
      ]
     },
     "metadata": {},
     "output_type": "display_data"
    }
   ],
   "source": [
    "scaler_standard = StandardScaler()\n",
    "scaler_minmax = MinMaxScaler()\n",
    "\n",
    "print(\"StandardScaler (z-score) sample:\")\n",
    "housing_standard = pd.DataFrame(scaler_standard.fit_transform(housing[num_features]),\n",
    "                            columns=num_features)\n",
    "print(housing_standard.head())\n",
    "\n",
    "print(\"MinMaxScaler sample:\")\n",
    "housing_minmax = pd.DataFrame(scaler_minmax.fit_transform(housing[num_features]),\n",
    "                            columns=num_features)\n",
    "print(housing_minmax.head())\n",
    "\n",
    "# Plot distribution of one feature\n",
    "column_to_plot = \"median_income\"\n",
    "plt.figure(figsize=(10,4))\n",
    "plt.subplot(1,2,1)\n",
    "plt.hist(housing_standard[column_to_plot], bins=30)\n",
    "plt.title(\"Standard Scaled\")\n",
    "plt.subplot(1,2,2)\n",
    "plt.hist(housing_minmax[column_to_plot], bins=30)\n",
    "plt.title(\"MinMax Scaled\")\n",
    "plt.show()"
   ]
  },
  {
   "cell_type": "markdown",
   "id": "5751ba4c",
   "metadata": {},
   "source": [
    "## Opgave 4"
   ]
  },
  {
   "cell_type": "code",
   "execution_count": 130,
   "id": "1ee9a151",
   "metadata": {},
   "outputs": [
    {
     "name": "stdout",
     "output_type": "stream",
     "text": [
      "Cross-validation results (Linear Regression):\n",
      "Scores: [0.61992846 0.56692874 0.62463808 0.6280262  0.61151045 0.65418549\n",
      " 0.65130469 0.60149863 0.61878583 0.62985259]\n",
      "Mean R^2: 0.6206659155034924\n",
      "Std: 0.023578831374588407\n"
     ]
    }
   ],
   "source": [
    "# Opdel i træning og test\n",
    "X = housing.drop(\"median_house_value\", axis=1)\n",
    "y = housing[\"median_house_value\"]\n",
    "X_train, X_test, y_train, y_test = train_test_split(X, y, test_size=0.2, random_state=42)\n",
    "\n",
    "\n",
    "imputer = SimpleImputer(strategy=\"median\")\n",
    "X_train_imputed = imputer.fit_transform(X_train.select_dtypes(include=[\"float64\", \"int64\"]))\n",
    "# X_test_imputed = imputer.transform(X_test)\n",
    "\n",
    "model = LinearRegression()\n",
    "scores = cross_val_score(model, X_train_imputed, y_train, cv=10, scoring=\"r2\")\n",
    "\n",
    "print(\"Cross-validation results (Linear Regression):\")\n",
    "print(\"Scores:\", scores)\n",
    "print(\"Mean R^2:\", scores.mean())\n",
    "print(\"Std:\", scores.std())"
   ]
  },
  {
   "cell_type": "markdown",
   "id": "38c8897c",
   "metadata": {},
   "source": [
    "## Ekstra opgave - Fine-tuning"
   ]
  },
  {
   "cell_type": "code",
   "execution_count": null,
   "id": "199a0ca4",
   "metadata": {},
   "outputs": [
    {
     "name": "stdout",
     "output_type": "stream",
     "text": [
      "Best parameters (KNN): {'n_neighbors': 9}\n",
      "Best score: 0.780952380952381\n"
     ]
    }
   ],
   "source": [
    "iris = pd.read_csv(\"iris.csv\")\n",
    "\n",
    "X = iris.iloc[:, 0:2].values \n",
    "y = iris.target\n",
    "\n",
    "X_train, X_test, y_train, y_test = train_test_split(X, y, test_size=0.3, random_state=42)\n",
    "\n",
    "imputer = SimpleImputer(strategy=\"median\")\n",
    "X_train_imputed = imputer.fit_transform(X_train)\n",
    "# X_test_imputed = imputer.transform(X_test)\n",
    "\n",
    "param_grid = {\"n_neighbors\": [3, 5, 7, 9, 11]}\n",
    "knn = KNeighborsClassifier(n_neighbors=5)\n",
    "grid_search = GridSearchCV(knn, param_grid, cv=5, scoring=\"accuracy\")\n",
    "grid_search.fit(X_train_imputed, y_train)\n",
    "\n",
    "print(\"Best parameters (KNN):\", grid_search.best_params_)\n",
    "print(\"Best score:\", grid_search.best_score_)"
   ]
  }
 ],
 "metadata": {
  "kernelspec": {
   "display_name": "medai",
   "language": "python",
   "name": "python3"
  },
  "language_info": {
   "codemirror_mode": {
    "name": "ipython",
    "version": 3
   },
   "file_extension": ".py",
   "mimetype": "text/x-python",
   "name": "python",
   "nbconvert_exporter": "python",
   "pygments_lexer": "ipython3",
   "version": "3.11.11"
  }
 },
 "nbformat": 4,
 "nbformat_minor": 5
}
